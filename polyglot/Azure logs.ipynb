{
 "cells": [
  {
   "cell_type": "markdown",
   "metadata": {},
   "source": [
    "[this doc on github](https://github.com/dotnet/interactive/tree/master/samples/notebooks/polyglot)\n",
    "\n"
   ]
  },
  {
   "cell_type": "code",
   "execution_count": null,
   "metadata": {
    "dotnet_interactive": {
     "language": "pwsh"
    }
   },
   "outputs": [
    {
     "name": "stdout",
     "output_type": "stream",
     "text": [
      "\n",
      "\u001b[95mUntrusted repository\u001b[0m\n",
      "You are installing the modules from an untrusted repository. If you trust this repository, change its InstallationPolicy value by running the Set-PSRepository cmdlet. Are you sure you want to install the modules from 'PSGallery'?\n",
      "[Y] Yes  [A] Yes to All  [N] No  [L] No to All  [S] Suspend  [?] Help(default is 'N')\u001b[93mWARNING: User declined to install module (Az.ApplicationInsights).\u001b[0m\n"
     ]
    }
   ],
   "source": [
    "Install-Module -Name Az.ApplicationInsights -RequiredVersion 1.0.3 -Scope CurrentUser "
   ]
  },
  {
   "cell_type": "code",
   "execution_count": null,
   "metadata": {
    "dotnet_interactive": {
     "language": "pwsh"
    }
   },
   "outputs": [
    {
     "name": "stdout",
     "output_type": "stream",
     "text": [
      "\n",
      "\u001b[32;1mName                     Version          DynamicOptions\u001b[0m\n",
      "\u001b[32;1m----                     -------          --------------\u001b[0m\n",
      "NuGet                    3.0.0.1          Destination, ExcludeVersion, Scope, SkipDependencies, He…\n",
      "PowerShellGet            2.2.3.0          PackageManagementProvider, Type, Scope, AllowClobber, Sk…\n",
      "\n"
     ]
    }
   ],
   "source": [
    "Get-PackageProvider"
   ]
  },
  {
   "cell_type": "code",
   "execution_count": null,
   "metadata": {
    "dotnet_interactive": {
     "language": "pwsh"
    }
   },
   "outputs": [
    {
     "name": "stdout",
     "output_type": "stream",
     "text": [
      "\u001b[91mConnect-AzAccount: \u001b[91mThe term 'Connect-AzAccount' is not recognized as a name of a cmdlet, function, script file, or executable program.\n",
      "Check the spelling of the name, or if a path was included, verify that the path is correct and try again.\u001b[0m\n"
     ]
    }
   ],
   "source": [
    "Connect-AzAccount"
   ]
  },
  {
   "cell_type": "code",
   "execution_count": null,
   "metadata": {
    "dotnet_interactive": {
     "language": "pwsh"
    }
   },
   "outputs": [
    {
     "name": "stdout",
     "output_type": "stream",
     "text": [
      "\u001b[91mSet-AzContext: \u001b[91mThe term 'Set-AzContext' is not recognized as a name of a cmdlet, function, script file, or executable program.\n",
      "Check the spelling of the name, or if a path was included, verify that the path is correct and try again.\u001b[0m\n"
     ]
    }
   ],
   "source": [
    "Set-AzContext -Subscription \"64276bd9-d4bf-4fe3-8b77-36d696e84b26\""
   ]
  },
  {
   "cell_type": "code",
   "execution_count": null,
   "metadata": {
    "dotnet_interactive": {
     "language": "pwsh"
    }
   },
   "outputs": [
    {
     "name": "stdout",
     "output_type": "stream",
     "text": [
      "\n",
      "\u001b[95mUntrusted repository\u001b[0m\n",
      "You are installing the modules from an untrusted repository. If you trust this repository, change its InstallationPolicy value by running the Set-PSRepository cmdlet. Are you sure you want to install the modules from 'PSGallery'?\n",
      "[Y] Yes  [A] Yes to All  [N] No  [L] No to All  [S] Suspend  [?] Help(default is 'N')\u001b[93mWARNING: User declined to install module (Az.Monitor).\u001b[0m\n"
     ]
    }
   ],
   "source": [
    "Install-Module -Name Az.Monitor -Scope CurrentUser"
   ]
  },
  {
   "cell_type": "code",
   "execution_count": null,
   "metadata": {
    "dotnet_interactive": {
     "language": "pwsh"
    }
   },
   "outputs": [
    {
     "name": "stdout",
     "output_type": "stream",
     "text": [
      "\u001b[91mGet-AzLog: \u001b[91mThe term 'Get-AzLog' is not recognized as a name of a cmdlet, function, script file, or executable program.\n",
      "Check the spelling of the name, or if a path was included, verify that the path is correct and try again.\u001b[0m\n"
     ]
    },
    {
     "data": {
      "application/json": "null"
     },
     "metadata": {},
     "output_type": "display_data"
    }
   ],
   "source": [
    "$logs = Get-AzLog -MaxRecord 200 | Select-Object -ExcludeProperty Authorization,Claims,EventTimestamp,HttpRequest,Level,Properties,SubmissionTimestamp\n",
    "$logJson = ConvertTo-Json $logs -Depth 3\n",
    "$logJson | Out-Display -MimeType \"application/json\""
   ]
  },
  {
   "cell_type": "code",
   "execution_count": null,
   "metadata": {
    "dotnet_interactive": {
     "language": "pwsh"
    }
   },
   "outputs": [
    {
     "name": "stdout",
     "output_type": "stream",
     "text": [
      "\u001b[91mInvalidOperation: \u001b[91mUnable to find type [Graph.Histogram].\u001b[0m\n",
      "\u001b[91mInvalidOperation: \n",
      "\u001b[96mLine |\n",
      "\u001b[96m   2 | \u001b[0m \u001b[96m$entryByResourceGroup.name = \"By ResourceGroup\"\u001b[0m\n",
      "\u001b[96m     | \u001b[91m ~~~~~~~~~~~~~~~~~~~~~~~~~~~~~~~~~~~~~~~~~~~~~~~\n",
      "\u001b[91m\u001b[96m     | \u001b[91mThe property 'name' cannot be found on this object. Verify that the property exists and can be set.\u001b[0m\n",
      "\u001b[91mInvalidOperation: \n",
      "\u001b[96mLine |\n",
      "\u001b[96m   3 | \u001b[0m \u001b[96m$entryByResourceGroup.x =  $logs.ResourceGroupName\u001b[0m\n",
      "\u001b[96m     | \u001b[91m ~~~~~~~~~~~~~~~~~~~~~~~~~~~~~~~~~~~~~~~~~~~~~~~~~~\n",
      "\u001b[91m\u001b[96m     | \u001b[91mThe property 'x' cannot be found on this object. Verify that the property exists and can be set.\u001b[0m\n",
      "\u001b[91mInvalidOperation: \n",
      "\u001b[96mLine |\n",
      "\u001b[96m   5 | \u001b[0m $entryByResourceProvider = \u001b[96m[Graph.Histogram]\u001b[0m::new()\n",
      "\u001b[96m     | \u001b[91m                            ~~~~~~~~~~~~~~~~~\n",
      "\u001b[91m\u001b[96m     | \u001b[91mUnable to find type [Graph.Histogram].\u001b[0m\n",
      "\u001b[91mInvalidOperation: \n",
      "\u001b[96mLine |\n",
      "\u001b[96m   6 | \u001b[0m \u001b[96m$entryByResourceProvider.name = \"By ResourceProvider\"\u001b[0m\n",
      "\u001b[96m     | \u001b[91m ~~~~~~~~~~~~~~~~~~~~~~~~~~~~~~~~~~~~~~~~~~~~~~~~~~~~~\n",
      "\u001b[91m\u001b[96m     | \u001b[91mThe property 'name' cannot be found on this object. Verify that the property exists and can be set.\u001b[0m\n",
      "\u001b[91mInvalidOperation: \n",
      "\u001b[96mLine |\n",
      "\u001b[96m   7 | \u001b[0m \u001b[96m$entryByResourceProvider.x =  $logs.ResourceProviderName.value\u001b[0m\n",
      "\u001b[96m     | \u001b[91m ~~~~~~~~~~~~~~~~~~~~~~~~~~~~~~~~~~~~~~~~~~~~~~~~~~~~~~~~~~~~~~\n",
      "\u001b[91m\u001b[96m     | \u001b[91mThe property 'x' cannot be found on this object. Verify that the property exists and can be set.\u001b[0m\n",
      "\u001b[91mInvalidOperation: \n",
      "\u001b[96mLine |\n",
      "\u001b[96m   9 | \u001b[0m $entryByStatus = \u001b[96m[Graph.Histogram]\u001b[0m::new()\n",
      "\u001b[96m     | \u001b[91m                  ~~~~~~~~~~~~~~~~~\n",
      "\u001b[91m\u001b[96m     | \u001b[91mUnable to find type [Graph.Histogram].\u001b[0m\n",
      "\u001b[91mInvalidOperation: \n",
      "\u001b[96mLine |\n",
      "\u001b[96m  10 | \u001b[0m \u001b[96m$entryByStatus.name = \"By Status\"\u001b[0m\n",
      "\u001b[96m     | \u001b[91m ~~~~~~~~~~~~~~~~~~~~~~~~~~~~~~~~~\n",
      "\u001b[91m\u001b[96m     | \u001b[91mThe property 'name' cannot be found on this object. Verify that the property exists and can be set.\u001b[0m\n",
      "\u001b[91mInvalidOperation: \n",
      "\u001b[96mLine |\n",
      "\u001b[96m  11 | \u001b[0m \u001b[96m$entryByStatus.x =  $logs.Status.value\u001b[0m\n",
      "\u001b[96m     | \u001b[91m ~~~~~~~~~~~~~~~~~~~~~~~~~~~~~~~~~~~~~~\n",
      "\u001b[91m\u001b[96m     | \u001b[91mThe property 'x' cannot be found on this object. Verify that the property exists and can be set.\u001b[0m\n",
      "\u001b[91mNew-PlotlyChart: \n",
      "\u001b[96mLine |\n",
      "\u001b[96m  14 | \u001b[0m \u001b[96mNew-PlotlyChart\u001b[0m -Trace @($entryByResourceGroup,$entryByResourceProvid …\n",
      "\u001b[96m     | \u001b[91m ~~~~~~~~~~~~~~~\n",
      "\u001b[91m\u001b[96m     | \u001b[91mThe term 'New-PlotlyChart' is not recognized as a name of a cmdlet, function, script file, or executable program.\n",
      "Check the spelling of the name, or if a path was included, verify that the path is correct and try again.\u001b[0m\n"
     ]
    }
   ],
   "source": [
    "$entryByResourceGroup = [Graph.Histogram]::new()\n",
    "$entryByResourceGroup.name = \"By ResourceGroup\"\n",
    "$entryByResourceGroup.x =  $logs.ResourceGroupName\n",
    "\n",
    "$entryByResourceProvider = [Graph.Histogram]::new()\n",
    "$entryByResourceProvider.name = \"By ResourceProvider\"\n",
    "$entryByResourceProvider.x =  $logs.ResourceProviderName.value\n",
    "\n",
    "$entryByStatus = [Graph.Histogram]::new()\n",
    "$entryByStatus.name = \"By Status\"\n",
    "$entryByStatus.x =  $logs.Status.value\n",
    "\n",
    "\n",
    "New-PlotlyChart -Trace @($entryByResourceGroup,$entryByResourceProvider,$entryByStatus) -Title \"Events\" | Out-Display"
   ]
  },
  {
   "cell_type": "code",
   "execution_count": null,
   "metadata": {
    "dotnet_interactive": {
     "language": "pwsh"
    }
   },
   "outputs": [
    {
     "name": "stdout",
     "output_type": "stream",
     "text": [
      "\u001b[91mInvalidOperation: \u001b[91mUnable to find type [Graph.Histogram].\u001b[0m\n",
      "\u001b[91mInvalidOperation: \n",
      "\u001b[96mLine |\n",
      "\u001b[96m   2 | \u001b[0m \u001b[96m$entryByResourceProviderSuccess.name = \"Success By ResourceProvider\"\u001b[0m\n",
      "\u001b[96m     | \u001b[91m ~~~~~~~~~~~~~~~~~~~~~~~~~~~~~~~~~~~~~~~~~~~~~~~~~~~~~~~~~~~~~~~~~~~~\n",
      "\u001b[91m\u001b[96m     | \u001b[91mThe property 'name' cannot be found on this object. Verify that the property exists and can be set.\u001b[0m\n",
      "\u001b[91mInvalidOperation: \n",
      "\u001b[96mLine |\n",
      "\u001b[96m   3 | \u001b[0m \u001b[96m$entryByResourceProviderSuccess.x = ($logs | where-object { $_.Status\u001b[0m …\n",
      "\u001b[96m     | \u001b[91m ~~~~~~~~~~~~~~~~~~~~~~~~~~~~~~~~~~~~~~~~~~~~~~~~~~~~~~~~~~~~~~~~~~~~~\n",
      "\u001b[91m\u001b[96m     | \u001b[91mThe property 'x' cannot be found on this object. Verify that the property exists and can be set.\u001b[0m\n",
      "\u001b[91mInvalidOperation: \n",
      "\u001b[96mLine |\n",
      "\u001b[96m   5 | \u001b[0m $entryByResourceProviderFailure = \u001b[96m[Graph.Histogram]\u001b[0m::new()\n",
      "\u001b[96m     | \u001b[91m                                   ~~~~~~~~~~~~~~~~~\n",
      "\u001b[91m\u001b[96m     | \u001b[91mUnable to find type [Graph.Histogram].\u001b[0m\n",
      "\u001b[91mInvalidOperation: \n",
      "\u001b[96mLine |\n",
      "\u001b[96m   6 | \u001b[0m \u001b[96m$entryByResourceProviderFailure.name = \"Failure By ResourceProvider\"\u001b[0m\n",
      "\u001b[96m     | \u001b[91m ~~~~~~~~~~~~~~~~~~~~~~~~~~~~~~~~~~~~~~~~~~~~~~~~~~~~~~~~~~~~~~~~~~~~\n",
      "\u001b[91m\u001b[96m     | \u001b[91mThe property 'name' cannot be found on this object. Verify that the property exists and can be set.\u001b[0m\n",
      "\u001b[91mInvalidOperation: \n",
      "\u001b[96mLine |\n",
      "\u001b[96m   7 | \u001b[0m \u001b[96m$entryByResourceProviderFailure.x =  ($logs | where-object { $_.Statu\u001b[0m …\n",
      "\u001b[96m     | \u001b[91m ~~~~~~~~~~~~~~~~~~~~~~~~~~~~~~~~~~~~~~~~~~~~~~~~~~~~~~~~~~~~~~~~~~~~~\n",
      "\u001b[91m\u001b[96m     | \u001b[91mThe property 'x' cannot be found on this object. Verify that the property exists and can be set.\u001b[0m\n",
      "\u001b[91mInvalidOperation: \n",
      "\u001b[96mLine |\n",
      "\u001b[96m   9 | \u001b[0m $layout = \u001b[96m[Layout]\u001b[0m::new()\n",
      "\u001b[96m     | \u001b[91m           ~~~~~~~~\n",
      "\u001b[91m\u001b[96m     | \u001b[91mUnable to find type [Layout].\u001b[0m\n",
      "\u001b[91mInvalidOperation: \n",
      "\u001b[96mLine |\n",
      "\u001b[96m  10 | \u001b[0m \u001b[96m$layout.barmode = \"stack\"\u001b[0m\n",
      "\u001b[96m     | \u001b[91m ~~~~~~~~~~~~~~~~~~~~~~~~~\n",
      "\u001b[91m\u001b[96m     | \u001b[91mThe property 'barmode' cannot be found on this object. Verify that the property exists and can be set.\u001b[0m\n",
      "\u001b[91mNew-PlotlyChart: \n",
      "\u001b[96mLine |\n",
      "\u001b[96m  11 | \u001b[0m \u001b[96mNew-PlotlyChart\u001b[0m -Layout $layout -Trace @($entryByResourceProviderSucc …\n",
      "\u001b[96m     | \u001b[91m ~~~~~~~~~~~~~~~\n",
      "\u001b[91m\u001b[96m     | \u001b[91mThe term 'New-PlotlyChart' is not recognized as a name of a cmdlet, function, script file, or executable program.\n",
      "Check the spelling of the name, or if a path was included, verify that the path is correct and try again.\u001b[0m\n"
     ]
    }
   ],
   "source": [
    "$entryByResourceProviderSuccess = [Graph.Histogram]::new()\n",
    "$entryByResourceProviderSuccess.name = \"Success By ResourceProvider\"\n",
    "$entryByResourceProviderSuccess.x = ($logs | where-object { $_.Status.value -eq \"Succeeded\"}).ResourceProviderName.value\n",
    "\n",
    "$entryByResourceProviderFailure = [Graph.Histogram]::new()\n",
    "$entryByResourceProviderFailure.name = \"Failure By ResourceProvider\"\n",
    "$entryByResourceProviderFailure.x =  ($logs | where-object { $_.Status.value -ne \"Succeeded\"}).ResourceProviderName.value\n",
    "\n",
    "$layout = [Layout]::new()\n",
    "$layout.barmode = \"stack\"\n",
    "New-PlotlyChart -Layout $layout -Trace @($entryByResourceProviderSuccess, $entryByResourceProviderFailure) -Title \"Events outcome by Resource Provider\" | Out-Display"
   ]
  }
 ],
 "metadata": {
  "kernelspec": {
   "display_name": ".NET (PowerShell)",
   "language": "PowerShell",
   "name": ".net-powershell"
  },
  "language_info": {
   "file_extension": ".ps1",
   "mimetype": "text/x-powershell",
   "name": "PowerShell",
   "pygments_lexer": "powershell",
   "version": "7.0"
  }
 },
 "nbformat": 4,
 "nbformat_minor": 4
}
